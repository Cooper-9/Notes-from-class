{
  "nbformat": 4,
  "nbformat_minor": 0,
  "metadata": {
    "colab": {
      "provenance": [],
      "authorship_tag": "ABX9TyO9TnR+VNenm3SyAfXy+y2s",
      "include_colab_link": true
    },
    "kernelspec": {
      "name": "python3",
      "display_name": "Python 3"
    },
    "language_info": {
      "name": "python"
    }
  },
  "cells": [
    {
      "cell_type": "markdown",
      "metadata": {
        "id": "view-in-github",
        "colab_type": "text"
      },
      "source": [
        "<a href=\"https://colab.research.google.com/github/Cooper-9/Notes-from-class/blob/main/(10/30)pivot_point_driven_hw.ipynb\" target=\"_parent\"><img src=\"https://colab.research.google.com/assets/colab-badge.svg\" alt=\"Open In Colab\"/></a>"
      ]
    },
    {
      "cell_type": "markdown",
      "source": [
        "## Simulate and analyze the motion of a rigid pendulum whose pivot point moves in a circular path about the pendulum bob.\n",
        "\n",
        "**This notebook will describe and test various aspects of a pendulum's motion while having a pivot point being driven in a circular path.**\n",
        "\n",
        "### Pseudocode\n",
        "1. **Import needed modules:** from `matplotlib.animation` import `FuncAnimation`\n",
        "from `IPython.display` import `HTML`\n",
        "2. **Define ODE functions:**\n",
        "3. **Create utilities:** some basic plotting functions, along with pendulum animation\n",
        "4. **Plot both results and compare:**..."
      ],
      "metadata": {
        "id": "bgSNztEih0dw"
      }
    },
    {
      "cell_type": "code",
      "source": [
        "# import modules\n",
        "from matplotlib.animation import FuncAnimation\n",
        "from IPython.display import HTML\n",
        "import numpy as np\n",
        "import matplotlib.pyplot as plt\n",
        "from scipy.integrate import solve_ivp, quad"
      ],
      "metadata": {
        "id": "67XPQJigwLO7"
      },
      "execution_count": 4,
      "outputs": []
    },
    {
      "cell_type": "code",
      "execution_count": 5,
      "metadata": {
        "colab": {
          "base_uri": "https://localhost:8080/",
          "height": 176
        },
        "id": "BbyyFOHmhPCa",
        "outputId": "d0ae480e-fbdc-4e1b-d845-60e0be57720c"
      },
      "outputs": [
        {
          "output_type": "error",
          "ename": "NameError",
          "evalue": "name 'pivot_driven_pendulum' is not defined",
          "traceback": [
            "\u001b[0;31m---------------------------------------------------------------------------\u001b[0m",
            "\u001b[0;31mNameError\u001b[0m                                 Traceback (most recent call last)",
            "\u001b[0;32m/tmp/ipython-input-1644136557.py\u001b[0m in \u001b[0;36m<cell line: 0>\u001b[0;34m()\u001b[0m\n\u001b[1;32m     19\u001b[0m \u001b[0;34m\u001b[0m\u001b[0m\n\u001b[1;32m     20\u001b[0m \u001b[0;31m# solve equation of motion\u001b[0m\u001b[0;34m\u001b[0m\u001b[0;34m\u001b[0m\u001b[0m\n\u001b[0;32m---> 21\u001b[0;31m \u001b[0msol\u001b[0m \u001b[0;34m=\u001b[0m \u001b[0msolve_ivp\u001b[0m\u001b[0;34m(\u001b[0m\u001b[0mpivot_driven_pendulum\u001b[0m\u001b[0;34m,\u001b[0m \u001b[0mt_span\u001b[0m\u001b[0;34m,\u001b[0m \u001b[0my_0\u001b[0m\u001b[0;34m,\u001b[0m \u001b[0margs\u001b[0m\u001b[0;34m=\u001b[0m\u001b[0;34m(\u001b[0m\u001b[0momega_d\u001b[0m\u001b[0;34m,\u001b[0m \u001b[0mg\u001b[0m\u001b[0;34m,\u001b[0m \u001b[0ml\u001b[0m\u001b[0;34m,\u001b[0m \u001b[0mgamma\u001b[0m\u001b[0;34m,\u001b[0m \u001b[0mx_p0\u001b[0m\u001b[0;34m,\u001b[0m \u001b[0my_p0\u001b[0m\u001b[0;34m)\u001b[0m\u001b[0;34m,\u001b[0m \u001b[0mmethod\u001b[0m \u001b[0;34m=\u001b[0m \u001b[0;34m'Radau'\u001b[0m\u001b[0;34m,\u001b[0m \u001b[0mdense_output\u001b[0m \u001b[0;34m=\u001b[0m \u001b[0;32mTrue\u001b[0m\u001b[0;34m)\u001b[0m\u001b[0;34m\u001b[0m\u001b[0;34m\u001b[0m\u001b[0m\n\u001b[0m",
            "\u001b[0;31mNameError\u001b[0m: name 'pivot_driven_pendulum' is not defined"
          ]
        }
      ],
      "source": [
        "# solve equation of motion\n",
        "\n",
        "# parameters\n",
        "omega_d = 10\n",
        "g = l = 1\n",
        "gamma = 0.1\n",
        "x_p0 , y_p0 = 1, 1\n",
        "n_cycles = 20\n",
        "\n",
        "# time span for integration\n",
        "t_min = 0\n",
        "t_max = n_cycles * 2*np.pi / omega_d\n",
        "t_span = [t_min, t_max]\n",
        "\n",
        "# initial conditions\n",
        "theta_0 = np.arcsin(2*gamma / omega_d)\n",
        "ang_vel_0 = omega_d\n",
        "y_0 = [theta_0, ang_vel_0]\n",
        "\n",
        "# solve equation of motion\n",
        "sol = solve_ivp(pivot_driven_pendulum, t_span, y_0, args=(omega_d, g, l, gamma, x_p0, y_p0), method = 'Radau', dense_output = True)"
      ]
    },
    {
      "cell_type": "code",
      "source": [],
      "metadata": {
        "id": "J1XtSe4bp58d"
      },
      "execution_count": null,
      "outputs": []
    }
  ]
}