{
  "nbformat": 4,
  "nbformat_minor": 0,
  "metadata": {
    "colab": {
      "provenance": [],
      "authorship_tag": "ABX9TyN55wlIoc44D738XotuiHYA",
      "include_colab_link": true
    },
    "kernelspec": {
      "name": "python3",
      "display_name": "Python 3"
    },
    "language_info": {
      "name": "python"
    }
  },
  "cells": [
    {
      "cell_type": "markdown",
      "metadata": {
        "id": "view-in-github",
        "colab_type": "text"
      },
      "source": [
        "<a href=\"https://colab.research.google.com/github/Cooper-9/Notes-from-class/blob/main/Period_rigid_p.ipynb\" target=\"_parent\"><img src=\"https://colab.research.google.com/assets/colab-badge.svg\" alt=\"Open In Colab\"/></a>"
      ]
    },
    {
      "cell_type": "markdown",
      "source": [
        "## Extracting the period of the rigid pendulum\n",
        "\n",
        "**[description of the notebook]**\n",
        "\n",
        "### Pseudocode\n",
        "1. **Import needed modules:** `numpy` for special functions and linear algebra; `matplotlib.pyplot` for plotting; `scipy.integrate` for `solve_ivp` for finding the pendulum trajectory, and `quad` for integration.\n",
        "2. **Define ODE functions and the integrand:** [add details]\n",
        "3. **Create utilities:** some basic plotting functions...\n",
        "4. **Extract the period using the integral:**...\n",
        "5. **Extract the period using the differential equation:**...\n",
        "6. **Plot both results and compare:**..."
      ],
      "metadata": {
        "id": "ACzqLFI2XROZ"
      }
    },
    {
      "cell_type": "code",
      "execution_count": 12,
      "metadata": {
        "id": "jh4-agILUIi8"
      },
      "outputs": [],
      "source": [
        "# import modules\n",
        "import numpy as np\n",
        "import matplotlib.pyplot as plt\n",
        "from scipy.integrate import solve_ivp, quad"
      ]
    },
    {
      "cell_type": "code",
      "source": [
        "# define the rigid pendulum ODE and the integrand for integration with quad\n",
        "\n",
        "# rigid pendulum ode\n",
        "def rigid_pendulum_ode(t, y, omega_0=1):\n",
        "  theta, ang_vel = y # unpacking our state variable\n",
        "  dtheta_dt = ang_vel # first derivative\n",
        "  d2theta_dt2 = - omega_0**2 * np.sin(theta) # second derivative\n",
        "  dy_dt = [dtheta_dt, d2theta_dt2] # derivative of state variable\n",
        "  return dy_dt\n",
        "\n",
        "# define the integrand for the period\n",
        "def period_integrand(theta, theta_0, omega_0=1):\n",
        "  \"\"\"\n",
        "  \"\"\"\n",
        "  coeff = 4/(np.sqrt(2)*omega_0) # leading coefficient of the integrand\n",
        "  denominator = np.sqrt(np.cos(theta)-np.cos(theta_0)) # denominator of integrand\n",
        "  return coeff/denominator"
      ],
      "metadata": {
        "id": "TxoTSO6GZQcP"
      },
      "execution_count": 13,
      "outputs": []
    },
    {
      "cell_type": "code",
      "source": [
        "# create utilities\n",
        "\n",
        "# basic plotting\n",
        "def basic_plot(x, y, xlabel=None, ylabel=None, figsize=(3,3)):\n",
        "  plt.figure(figsize=figsize)\n",
        "  plt.plot(x,y)\n",
        "  plt.xlabel(xlabel)\n",
        "  plt.ylabel(ylabel)\n",
        "  return plt.show()\n",
        "\n",
        "#...other utilities..."
      ],
      "metadata": {
        "id": "jPQKuV3riSbZ"
      },
      "execution_count": 28,
      "outputs": []
    },
    {
      "cell_type": "code",
      "source": [
        "# test the integral\n",
        "theta_0 = np.pi/2 # initial angle\n",
        "omega_0 = 1 # natural frequency\n",
        "period, err= quad(period_integrand, 0, theta_0, args=(theta_0, omega_0))\n",
        "\n",
        "print(period/ (2*np.pi)) # answer is 2pi, check by dividing. Period is always larger than actual value."
      ],
      "metadata": {
        "colab": {
          "base_uri": "https://localhost:8080/"
        },
        "id": "r_C0sCMgZQFi",
        "outputId": "c35b78fc-0b69-4d8d-83f9-619a7a728c12"
      },
      "execution_count": 24,
      "outputs": [
        {
          "output_type": "stream",
          "name": "stdout",
          "text": [
            "1.1803405990160538\n"
          ]
        }
      ]
    },
    {
      "cell_type": "code",
      "source": [
        "# extract period with integral on a list of initial angles\n",
        "n_points = 100 # number of initial angles\n",
        "eps = 1e-3 # shift to avoid problems in the integral at 0 and pi\n",
        "theta_0_list = np.linspace(eps, np.pi - eps, n_points) # list of initial angles\n",
        "\n",
        "omega_0 = 1 # natural frequency\n",
        "period_list_int = [] # initialized list of periods\n",
        "\n",
        "for theta_0 in theta_0_list:\n",
        "  period, err = quad(period_integrand, 0, theta_0, args =(theta_0, omega_0))\n",
        "  period_list_int.append(period)\n",
        "\n",
        "period_list_int = np.array(period_list_int) # convert to a numpy array\n",
        "\n",
        "period_list_int = np.concatenate([period_list_int[::-1], period_list_int]) # enforcing symmetry to extend data\n",
        "theta_0_list = np.concatenate([-theta_0_list[::-1], theta_0_list]) # enforcing symmetry to extend data\n",
        "\n"
      ],
      "metadata": {
        "id": "ZEZrbrDQeFna"
      },
      "execution_count": 45,
      "outputs": []
    },
    {
      "cell_type": "code",
      "source": [
        "basic_plot(theta_0_list, period_list_int, xlabel=\"theta_0\", ylabel=\"period\")"
      ],
      "metadata": {
        "colab": {
          "base_uri": "https://localhost:8080/",
          "height": 311
        },
        "id": "FW5HoFkLiIxQ",
        "outputId": "c4642da0-9f0e-4e4e-947b-e85acbd8c8e3"
      },
      "execution_count": 46,
      "outputs": [
        {
          "output_type": "display_data",
          "data": {
            "text/plain": [
              "<Figure size 300x300 with 1 Axes>"
            ],
            "image/png": "[encoded data removed]"
          },
          "metadata": {}
        }
      ]
    }
  ]
}