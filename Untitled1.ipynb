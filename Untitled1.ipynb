{
  "nbformat": 4,
  "nbformat_minor": 0,
  "metadata": {
    "colab": {
      "provenance": [],
      "authorship_tag": "ABX9TyM3mmBWONoxiWvGOGMeL/av",
      "include_colab_link": true
    },
    "kernelspec": {
      "name": "python3",
      "display_name": "Python 3"
    },
    "language_info": {
      "name": "python"
    }
  },
  "cells": [
    {
      "cell_type": "markdown",
      "metadata": {
        "id": "view-in-github",
        "colab_type": "text"
      },
      "source": [
        "<a href=\"https://colab.research.google.com/github/Cooper-9/Notes-from-class/blob/main/Untitled1.ipynb\" target=\"_parent\"><img src=\"https://colab.research.google.com/assets/colab-badge.svg\" alt=\"Open In Colab\"/></a>"
      ]
    },
    {
      "cell_type": "code",
      "execution_count": 19,
      "metadata": {
        "colab": {
          "base_uri": "https://localhost:8080/"
        },
        "id": "B_Nv6xxb9K1v",
        "outputId": "46ef86c6-7dfd-409b-b413-5e456b72d5ac"
      },
      "outputs": [
        {
          "output_type": "stream",
          "name": "stdout",
          "text": [
            "list constructed with an explicit index\n",
            "      index          x\n",
            "         0|  0.000000\n",
            "         1|  0.010000\n",
            "         2|  0.020000\n",
            "         3|  0.030000\n",
            "         4|  0.040000\n",
            "         5|  0.050000\n",
            "         6|  0.060000\n",
            "         7|  0.070000\n",
            "         8|  0.080000\n",
            "         9|  0.090000\n",
            "list constructed with a throwaway index\n",
            "      index          x\n",
            "         0|  0.000000\n",
            "         1|  0.010000\n",
            "         2|  0.020000\n",
            "         3|  0.030000\n",
            "         4|  0.040000\n",
            "         5|  0.050000\n",
            "         6|  0.060000\n",
            "         7|  0.070000\n",
            "         8|  0.080000\n",
            "         9|  0.090000\n",
            "        10|  0.100000\n",
            "list constructed with list comprehension\n",
            "      index          x\n",
            "         0|  0.000000\n",
            "         1|  0.010000\n",
            "         2|  0.020000\n",
            "         3|  0.030000\n",
            "         4|  0.040000\n",
            "         5|  0.050000\n",
            "         6|  0.060000\n",
            "         7|  0.070000\n",
            "         8|  0.080000\n",
            "         9|  0.090000\n"
          ]
        }
      ],
      "source": [
        "# from last time\n",
        "# for loop with the syntax\n",
        "# for {iterator} in {interable}:\n",
        "#   {do this stuff}\n",
        "# we used the '.append' feature of lists\n",
        "\n",
        "x = [] # initialize as a n empty list\n",
        "inc = 0.01 # some increment\n",
        "for i in range (10):\n",
        "  x.append(inc * i)\n",
        "print('list constructed with an explicit index')\n",
        "print(f\"{'index':>11s}{'x':>11s}\")\n",
        "for i in range(len(x)):\n",
        "  print(f\"{i:10d}|{x[i]:10.6f}\")\n",
        "\n",
        "# for loop with throwaway index/dummy index\n",
        "x = [0] # set x with an initial value\n",
        "inc = 0.01\n",
        "for _ in range(10):\n",
        "  x.append(x[-1] + inc)\n",
        "\n",
        "\n",
        "# clean up the print with some formatting\n",
        "# f-print literal\n",
        "print('list constructed with a throwaway index')\n",
        "print(f\"{'index':>11s}{'x':>11s}\")\n",
        "for i in range(len(x)):\n",
        "  print(f\"{i:10d}|{x[i]:10.6f}\")\n",
        "\n",
        "# list comprehension --> one-line approach to a for loop for variable/lsit assignment\n",
        "# [{expression to evaluate} for {iterator} in {iterable}]\n",
        "inc = 0.01\n",
        "x = [i * inc for i in range(10)]\n",
        "print('list constructed with list comprehension')\n",
        "print(f\"{'index':>11s}{'x':>11s}\")\n",
        "for i in range(len(x)):\n",
        "  print(f\"{i:10d}|{x[i]:10.6f}\")"
      ]
    },
    {
      "cell_type": "code",
      "source": [
        "# solving a differential equation with Euler's method\n",
        "\n",
        "# we want to solve x' = alpha x; x(0) = x_0\n",
        "# define all of our variables: alpha, dt, x_0, t_0, n_steps\n",
        "# initialize any lists (e.g. t, x)\n",
        "\n",
        "# define a funcino call that will give us x and t\n",
        "def euler_test(alpha, dt, x_0, t_0, n_steps):\n",
        "  \"\"\"\n",
        "  This calculates the solution to x' + alpha * x = 0 using Euler's method.\n",
        "  \"\"\"\n",
        "  x = [x_0] # initialized x list\n",
        "  t = [t_0] # initialized t list\n",
        "  for _ in range(n_steps):\n",
        "    x_new = x[-1] * (1 + alpha * dt) # update x\n",
        "    t_new = t[-1] + dt # update t\n",
        "    x.append(x_new) # append x\n",
        "    t.append(t_new) # append t\n",
        "  return t, x\n",
        ""
      ],
      "metadata": {
        "id": "KwqyoxS7Dav1"
      },
      "execution_count": 21,
      "outputs": []
    },
    {
      "cell_type": "code",
      "source": [
        "# import the math module\n",
        "import math\n",
        "\n",
        "# assign variables and call function\n",
        "alpha = 1\n",
        "dt = 0.01\n",
        "x_0 = 1\n",
        "t_0 = 0\n",
        "n_steps = 10\n",
        "t, x = euler_test(alpha, dt, x_0, t_0, n_steps)\n",
        "\n",
        "# get the exact values\n",
        "x_exact = [x_0 * math.exp(alpha * t[i]) for i in range(len(t))] # using list comprehension\n",
        "\n",
        "# print output for inspection fo solution\n",
        "print('solution using Euler\\'s method')\n",
        "print(f\"{'t':>10s}{'x':>10s}{'x_exact':>10s}\")\n",
        "for i in range(len(x)):\n",
        "  print(f\"{t[i]:10.6f}|{x[i]:10.6f}|{x_exact[i]:10.6f}\")"
      ],
      "metadata": {
        "colab": {
          "base_uri": "https://localhost:8080/"
        },
        "id": "rhLwUQk5KBvi",
        "outputId": "4f00d4eb-b133-4336-eef1-a939040af1f5"
      },
      "execution_count": 30,
      "outputs": [
        {
          "output_type": "stream",
          "name": "stdout",
          "text": [
            "solution using Euler's method\n",
            "         t         x   x_exact\n",
            "  0.000000|  1.000000|  1.000000\n",
            "  0.010000|  1.010000|  1.010050\n",
            "  0.020000|  1.020100|  1.020201\n",
            "  0.030000|  1.030301|  1.030455\n",
            "  0.040000|  1.040604|  1.040811\n",
            "  0.050000|  1.051010|  1.051271\n",
            "  0.060000|  1.061520|  1.061837\n",
            "  0.070000|  1.072135|  1.072508\n",
            "  0.080000|  1.082857|  1.083287\n",
            "  0.090000|  1.093685|  1.094174\n",
            "  0.100000|  1.104622|  1.105171\n"
          ]
        }
      ]
    }
  ]
}