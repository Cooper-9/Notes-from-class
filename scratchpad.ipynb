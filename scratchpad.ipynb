{
  "cells": [
    {
      "cell_type": "markdown",
      "metadata": {
        "id": "view-in-github",
        "colab_type": "text"
      },
      "source": [
        "<a href=\"https://colab.research.google.com/github/Cooper-9/Notes-from-class/blob/main/scratchpad.ipynb\" target=\"_parent\"><img src=\"https://colab.research.google.com/assets/colab-badge.svg\" alt=\"Open In Colab\"/></a>"
      ]
    },
    {
      "cell_type": "code",
      "execution_count": 9,
      "metadata": {
        "id": "lIYdn1woOS1n"
      },
      "outputs": [],
      "source": [
        "# define the potential energy of a rigid pendulum\n",
        "\n",
        "import math # import the math module\n",
        "\n",
        "# define a function for the potential energy\n",
        "def get_potential_energy_rigid_pendulum(theta, m=1, g=9.8, l=1):\n",
        "\n",
        "  \"\"\"\n",
        "    Calculates the potential energy of a rigid pendulum.\n",
        "\n",
        "    Parameters\n",
        "    ----------\n",
        "    theta : float\n",
        "        The angle of the pendulum in radians.\n",
        "    m : float\n",
        "        The mass of the pendulum in kilograms.\n",
        "    g : float\n",
        "        The acceleration due to gravity in m/s^2\n",
        "    l : float\n",
        "        The length of the pendulum in meters.\n",
        "\n",
        "    Returns\n",
        "    -------\n",
        "    float\n",
        "        The potential energy of the pendulum in J.\n",
        "\n",
        "    Note\n",
        "    -------\n",
        "    Needs 'import math' to work.\n",
        "\n",
        "    The angle theta is expected to be in radians.\n",
        "  \"\"\"\n",
        "  return m * g * l * (1-math.cos(theta))"
      ]
    },
    {
      "cell_type": "code",
      "source": [
        "# look at new objects called lists\n",
        "my_list = [1, 2, 3, 4, 5]\n",
        "print(my_list[0]) # indexing starts at 0\n",
        "print(len(my_list)) # access the length of the list\n",
        "\n",
        "my_list[0:5:2] # syntax is starting index: ending index +1: spacing\n",
        "my_list[5:0:-2]\n",
        "\n",
        "my_list?"
      ],
      "metadata": {
        "id": "OsBolRBKSIvT",
        "outputId": "bd089935-24b9-4ae0-b47d-bc783806ca69",
        "colab": {
          "base_uri": "https://localhost:8080/"
        }
      },
      "execution_count": 20,
      "outputs": [
        {
          "output_type": "stream",
          "name": "stdout",
          "text": [
            "1\n",
            "5\n"
          ]
        }
      ]
    },
    {
      "cell_type": "code",
      "source": [
        "# define tuple\n",
        "my_tuple = (1, 1, 3, 4, 5)\n",
        "print(my_tuple[1:4:1])"
      ],
      "metadata": {
        "id": "zqkGpB41VaHa",
        "outputId": "1a6d5f3f-095f-4938-b4a8-a7b8d5af5fd6",
        "colab": {
          "base_uri": "https://localhost:8080/"
        }
      },
      "execution_count": 37,
      "outputs": [
        {
          "output_type": "stream",
          "name": "stdout",
          "text": [
            "(1, 3, 4)\n"
          ]
        }
      ]
    },
    {
      "cell_type": "code",
      "source": [
        "# use help, dir, tab-completion\n",
        "# lists are mutable --> we can edit a list after its defined\n",
        "# tuples are immutable --> everything is fixed (once defined)"
      ],
      "metadata": {
        "id": "4yl7IrGmV1tG",
        "outputId": "ce90ae96-e0a8-4974-a65f-fee58e5c6a7c",
        "colab": {
          "base_uri": "https://localhost:8080/"
        }
      },
      "execution_count": 45,
      "outputs": [
        {
          "output_type": "execute_result",
          "data": {
            "text/plain": [
              "0"
            ]
          },
          "metadata": {},
          "execution_count": 45
        }
      ]
    },
    {
      "cell_type": "code",
      "source": [
        "# can we use a list of tuple in a function call?\n",
        "# get_potential_energy_rigid_pendulum(my_list) [doesn't work]\n",
        "# theta_list = math.pi * [0.0, 0.5, 1.0] [doesn't work]\n",
        "\n",
        "# lets try a for loop\n",
        "# syntax is:\n",
        "# for item in iterator:\n",
        "#   <execture this code>\n",
        "\n",
        "# iterators:\n",
        "my_list = [1, 2, 3, 4, 5]\n",
        "my_string = \"guru\"\n",
        "my_list_of_lists = [[1, 2, 3, 4, 5], [6, 7, 8, 9, 10]]\n",
        "\n",
        "# executing the for loop for a list\n",
        "for i in my_list:\n",
        "  print(i)\n",
        "\n",
        "# executing the for loop for a string\n",
        "for letter in my_string:\n",
        "  print(letter)\n",
        "\n",
        "# executing the for loop for a list of lists\n",
        "for list in my_list_of_lists:\n",
        "  print(list)\n",
        "\n"
      ],
      "metadata": {
        "id": "FrfibWHHZK-p",
        "outputId": "f63d7b6b-abac-4f92-f0db-642894caa00e",
        "colab": {
          "base_uri": "https://localhost:8080/"
        }
      },
      "execution_count": 60,
      "outputs": [
        {
          "output_type": "stream",
          "name": "stdout",
          "text": [
            "1\n",
            "2\n",
            "3\n",
            "4\n",
            "5\n",
            "g\n",
            "u\n",
            "r\n",
            "u\n",
            "[1, 2, 3, 4, 5]\n",
            "[6, 7, 8, 9, 10]\n"
          ]
        }
      ]
    },
    {
      "cell_type": "code",
      "source": [
        "# constructing a list of angles for our pendulum with a for loop\n",
        "\n",
        "num_points = 101 # number of points we want\n",
        "stop_index = num_points - num_points //2 # upper bound for range\n",
        "start_index = num_points //2 - num_points +1 # lower bound for range\n",
        "\n",
        "theta_list = []\n",
        "for i in range(start_index, stop_index, 1):\n",
        "  # print(2 * i * math.pi / (num_points -1))\n",
        "  theta_list.append(2 * i * math.pi / (num_points -1))\n",
        "\n",
        "print(theta_list)\n",
        "\n"
      ],
      "metadata": {
        "id": "lvhuBFfHcBti",
        "outputId": "21309e98-a8ea-4092-bb5d-ac56d7a0d0b5",
        "colab": {
          "base_uri": "https://localhost:8080/"
        }
      },
      "execution_count": 70,
      "outputs": [
        {
          "output_type": "stream",
          "name": "stdout",
          "text": [
            "[-3.141592653589793, -3.078760800517997, -3.015928947446201, -2.9530970943744057, -2.8902652413026093, -2.827433388230814, -2.764601535159018, -2.701769682087222, -2.6389378290154264, -2.57610597594363, -2.5132741228718345, -2.4504422698000385, -2.3876104167282426, -2.324778563656447, -2.261946710584651, -2.199114857512855, -2.1362830044410597, -2.0734511513692637, -2.0106192982974678, -1.9477874452256716, -1.8849555921538756, -1.8221237390820801, -1.7592918860102842, -1.6964600329384882, -1.6336281798666925, -1.5707963267948966, -1.5079644737231006, -1.4451326206513047, -1.382300767579509, -1.3194689145077132, -1.2566370614359172, -1.1938052083641213, -1.1309733552923256, -1.0681415022205298, -1.0053096491487339, -0.9424777960769378, -0.8796459430051421, -0.8168140899333463, -0.7539822368615503, -0.6911503837897545, -0.6283185307179586, -0.5654866776461628, -0.5026548245743669, -0.43982297150257105, -0.37699111843077515, -0.3141592653589793, -0.25132741228718347, -0.18849555921538758, -0.12566370614359174, -0.06283185307179587, 0.0, 0.06283185307179587, 0.12566370614359174, 0.18849555921538758, 0.25132741228718347, 0.3141592653589793, 0.37699111843077515, 0.43982297150257105, 0.5026548245743669, 0.5654866776461628, 0.6283185307179586, 0.6911503837897545, 0.7539822368615503, 0.8168140899333463, 0.8796459430051421, 0.9424777960769378, 1.0053096491487339, 1.0681415022205298, 1.1309733552923256, 1.1938052083641213, 1.2566370614359172, 1.3194689145077132, 1.382300767579509, 1.4451326206513047, 1.5079644737231006, 1.5707963267948966, 1.6336281798666925, 1.6964600329384882, 1.7592918860102842, 1.8221237390820801, 1.8849555921538756, 1.9477874452256716, 2.0106192982974678, 2.0734511513692637, 2.1362830044410597, 2.199114857512855, 2.261946710584651, 2.324778563656447, 2.3876104167282426, 2.4504422698000385, 2.5132741228718345, 2.57610597594363, 2.6389378290154264, 2.701769682087222, 2.764601535159018, 2.827433388230814, 2.8902652413026093, 2.9530970943744057, 3.015928947446201, 3.078760800517997, 3.141592653589793]\n"
          ]
        }
      ]
    }
  ],
  "metadata": {
    "colab": {
      "name": "scratchpad",
      "provenance": [],
      "include_colab_link": true
    },
    "kernelspec": {
      "display_name": "Python 3",
      "name": "python3"
    }
  },
  "nbformat": 4,
  "nbformat_minor": 0
}