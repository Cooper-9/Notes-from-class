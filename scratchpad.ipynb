{
  "cells": [
    {
      "cell_type": "markdown",
      "metadata": {
        "id": "view-in-github",
        "colab_type": "text"
      },
      "source": [
        "<a href=\"https://colab.research.google.com/github/Cooper-9/Notes-from-class/blob/main/scratchpad.ipynb\" target=\"_parent\"><img src=\"https://colab.research.google.com/assets/colab-badge.svg\" alt=\"Open In Colab\"/></a>"
      ]
    },
    {
      "cell_type": "code",
      "execution_count": null,
      "metadata": {
        "id": "lIYdn1woOS1n"
      },
      "outputs": [],
      "source": [
        "# problem solving strategy\n",
        "# type() --> dir() --> help() --> ? --> ?? --> websearch --> AI --> Python documentation\n",
        "\n",
        "# objects that we introduced\n",
        "# built in functions: core functions in python\n",
        "# keywords: special named objects in python that cannot be changes/reassigned\n",
        "# operators, variables, expressions, and comments"
      ]
    },
    {
      "cell_type": "code",
      "source": [
        "# checking built in functions\n",
        "print(dir(__builtins__))"
      ],
      "metadata": {
        "collapsed": true,
        "id": "S5rkirzd7gjK",
        "outputId": "6a2d466b-8352-4c6f-aa77-553f1c1b9b98",
        "colab": {
          "base_uri": "https://localhost:8080/"
        }
      },
      "execution_count": 8,
      "outputs": [
        {
          "output_type": "stream",
          "name": "stdout",
          "text": [
            "['ArithmeticError', 'AssertionError', 'AttributeError', 'BaseException', 'BaseExceptionGroup', 'BlockingIOError', 'BrokenPipeError', 'BufferError', 'BytesWarning', 'ChildProcessError', 'ConnectionAbortedError', 'ConnectionError', 'ConnectionRefusedError', 'ConnectionResetError', 'DeprecationWarning', 'EOFError', 'Ellipsis', 'EncodingWarning', 'EnvironmentError', 'Exception', 'ExceptionGroup', 'False', 'FileExistsError', 'FileNotFoundError', 'FloatingPointError', 'FutureWarning', 'GeneratorExit', 'IOError', 'ImportError', 'ImportWarning', 'IndentationError', 'IndexError', 'InterruptedError', 'IsADirectoryError', 'KeyError', 'KeyboardInterrupt', 'LookupError', 'MemoryError', 'ModuleNotFoundError', 'NameError', 'None', 'NotADirectoryError', 'NotImplemented', 'NotImplementedError', 'OSError', 'OverflowError', 'PendingDeprecationWarning', 'PermissionError', 'ProcessLookupError', 'RecursionError', 'ReferenceError', 'ResourceWarning', 'RuntimeError', 'RuntimeWarning', 'StopAsyncIteration', 'StopIteration', 'SyntaxError', 'SyntaxWarning', 'SystemError', 'SystemExit', 'TabError', 'TimeoutError', 'True', 'TypeError', 'UnboundLocalError', 'UnicodeDecodeError', 'UnicodeEncodeError', 'UnicodeError', 'UnicodeTranslateError', 'UnicodeWarning', 'UserWarning', 'ValueError', 'Warning', 'ZeroDivisionError', '__IPYTHON__', '__build_class__', '__debug__', '__doc__', '__import__', '__loader__', '__name__', '__package__', '__spec__', 'abs', 'aiter', 'all', 'anext', 'any', 'ascii', 'bin', 'bool', 'breakpoint', 'bytearray', 'bytes', 'callable', 'chr', 'classmethod', 'compile', 'complex', 'copyright', 'credits', 'delattr', 'dict', 'dir', 'display', 'divmod', 'enumerate', 'eval', 'exec', 'execfile', 'filter', 'float', 'format', 'frozenset', 'get_ipython', 'getattr', 'globals', 'hasattr', 'hash', 'help', 'hex', 'id', 'input', 'int', 'isinstance', 'issubclass', 'iter', 'len', 'license', 'list', 'locals', 'map', 'max', 'memoryview', 'min', 'next', 'object', 'oct', 'open', 'ord', 'pow', 'print', 'property', 'range', 'repr', 'reversed', 'round', 'runfile', 'set', 'setattr', 'slice', 'sorted', 'staticmethod', 'str', 'sum', 'super', 'tuple', 'type', 'vars', 'zip']\n",
            "Help on built-in function print in module builtins:\n",
            "\n",
            "print(*args, sep=' ', end='\\n', file=None, flush=False)\n",
            "    Prints the values to a stream, or to sys.stdout by default.\n",
            "\n",
            "    sep\n",
            "      string inserted between values, default a space.\n",
            "    end\n",
            "      string appended after the last value, default a newline.\n",
            "    file\n",
            "      a file-like object (stream); defaults to the current sys.stdout.\n",
            "    flush\n",
            "      whether to forcibly flush the stream.\n",
            "\n"
          ]
        }
      ]
    },
    {
      "cell_type": "code",
      "source": [
        "# getting more information about keywords\n",
        "# use 'import keyword'\n",
        "# 'dir(keyword)'\n",
        "# 'keyword.kwlist'"
      ],
      "metadata": {
        "id": "eZnWgqQN-IG3"
      },
      "execution_count": 27,
      "outputs": []
    },
    {
      "cell_type": "code",
      "source": [
        "# operators, variables, expressions, and comments\n",
        "# operators:\n",
        "#   arithmetic: '+', '-', 'x', '/', '%', '//', '**'\n",
        "#   assignment: '=' (assingment can be paired with arighmetic)\n",
        "#   comparison: '==' (check equivalence), '!=' (not equal), '<', '>', '<=', '>='"
      ],
      "metadata": {
        "id": "6UdcHDB1-i5L"
      },
      "execution_count": 28,
      "outputs": []
    },
    {
      "cell_type": "code",
      "source": [
        "my_variable = 2.7\n",
        "print(my_variable)\n",
        "\n",
        "#my_variable += 1\n",
        "#print(my_variable)\n",
        "\n",
        "#alternatively\n",
        "my_variable = my_variable + 1\n",
        "print(my_variable)\n",
        "\n",
        "my_variable == 3.7\n"
      ],
      "metadata": {
        "id": "ltj2yKzR_BPx",
        "outputId": "7f59439a-5a3f-465f-d93b-aeb28d3239c7",
        "colab": {
          "base_uri": "https://localhost:8080/"
        }
      },
      "execution_count": 31,
      "outputs": [
        {
          "output_type": "stream",
          "name": "stdout",
          "text": [
            "2.7\n",
            "3.7\n"
          ]
        },
        {
          "output_type": "execute_result",
          "data": {
            "text/plain": [
              "True"
            ]
          },
          "metadata": {},
          "execution_count": 31
        }
      ]
    },
    {
      "cell_type": "code",
      "source": [
        "%whos"
      ],
      "metadata": {
        "id": "2uunw3Ur_EOV",
        "outputId": "6cbd3d92-f0cd-4ca4-c33c-d701af803986",
        "colab": {
          "base_uri": "https://localhost:8080/"
        }
      },
      "execution_count": 32,
      "outputs": [
        {
          "output_type": "stream",
          "name": "stdout",
          "text": [
            "Variable      Type     Data/Info\n",
            "--------------------------------\n",
            "my_variable   float    3.7\n"
          ]
        }
      ]
    },
    {
      "cell_type": "code",
      "source": [
        "# last time we assingned variables for energy quantities\n",
        "# define variable\n",
        "m = 1.0 # mass in kg\n",
        "v = 1.0 # velocity in m/s\n",
        "k = 1.0 # force constant in N/m = kg/s^2\n",
        "x = 1.0 # displacement in m\n",
        "\n",
        "# define energies\n",
        "kinetic_energy = 0.5 * m * v**2 # kinetic energy in Joules\n",
        "potential_energy = 0.5 * k * x**2 # potential energy in Joules\n",
        "total_energy = kinetic_energy + potential_energy # total energy in Joules"
      ],
      "metadata": {
        "id": "KcKoVhFABDZo"
      },
      "execution_count": 33,
      "outputs": []
    },
    {
      "cell_type": "code",
      "source": [
        "# we can alternatively define a function\n",
        "def get_potential_energy(k, x):\n",
        "  \"\"\"\n",
        "  Calculates the potential energy of a linear mass-spring system\n",
        "\n",
        "  Parameters\n",
        "  ----------\n",
        "  k : float\n",
        "    force constant in N/m = kg/s^2\n",
        "  x : float\n",
        "    displacement in m\n",
        "\n",
        "  Returns\n",
        "  -------\n",
        "  float\n",
        "    potential energy in Joules\n",
        "  \"\"\"\n",
        "  return 0.5 * k * x**2"
      ],
      "metadata": {
        "id": "VKA8F0X5COUG"
      },
      "execution_count": 42,
      "outputs": []
    },
    {
      "cell_type": "code",
      "source": [
        "print(get_potential_energy(k, x)) # use the preassigned values of k, x\n",
        "print(get_potential_energy(k = 0.25, x = -2.7)) # specify values of variable in the function\n",
        "print(get_potential_energy(x = -2.7, k = 0.25)) # order doesn't matter (if assigned)\n",
        "print(get_potential_energy(-2.7, 0.25)) # ...it does if unassigned"
      ],
      "metadata": {
        "id": "1fkA_9b-C5vU",
        "outputId": "183e3905-2c8c-4d4f-be9d-0dba5701e984",
        "colab": {
          "base_uri": "https://localhost:8080/"
        }
      },
      "execution_count": 39,
      "outputs": [
        {
          "output_type": "stream",
          "name": "stdout",
          "text": [
            "0.5\n",
            "0.9112500000000001\n",
            "0.9112500000000001\n",
            "-0.084375\n"
          ]
        }
      ]
    },
    {
      "cell_type": "code",
      "source": [
        "get_potential_energy?"
      ],
      "metadata": {
        "id": "v2lXJOTgEQF-"
      },
      "execution_count": 55,
      "outputs": []
    },
    {
      "cell_type": "code",
      "source": [
        "# get the potential energy for a rigid pendulum\n",
        "import math # import the math module to get access to cosine\n",
        "def get_potential_energy_rigid_pendulum(U_max, theta):\n",
        "  \"\"\"\n",
        "  Calculates the potential energy of a rigit pendulum\n",
        "\n",
        "  Parameters\n",
        "  ----------\n",
        "  U_max : float\n",
        "    maximum value of the potential energy in Joules\n",
        "  theta : float\n",
        "    angle of the pendulum in radians\n",
        "\n",
        "  Returns\n",
        "  -------\n",
        "  float\n",
        "    potential energy in Joules\n",
        "\n",
        "  Note\n",
        "  -------\n",
        "  requires 'import math'\n",
        "  \"\"\"\n",
        "  return 0.5 * U_max * (1 - math.cos(theta))"
      ],
      "metadata": {
        "id": "rdLlkpJUEX7q"
      },
      "execution_count": 60,
      "outputs": []
    },
    {
      "cell_type": "code",
      "source": [
        "get_potential_energy_rigid_pendulum(1, math.pi)"
      ],
      "metadata": {
        "id": "CqdsjysDHLiE",
        "outputId": "53cc9110-38c2-4cc4-b53a-a596671b0154",
        "colab": {
          "base_uri": "https://localhost:8080/"
        }
      },
      "execution_count": 56,
      "outputs": [
        {
          "output_type": "execute_result",
          "data": {
            "text/plain": [
              "1.0"
            ]
          },
          "metadata": {},
          "execution_count": 56
        }
      ]
    },
    {
      "cell_type": "code",
      "source": [
        "# what are these?\n",
        "print(math.tau) #2pi\n",
        "print(math.atan(2)) #"
      ],
      "metadata": {
        "id": "tU6MUFjiHgkX",
        "outputId": "497548ff-8c1f-453c-f94e-9e9ff0a626c9",
        "colab": {
          "base_uri": "https://localhost:8080/"
        }
      },
      "execution_count": 59,
      "outputs": [
        {
          "output_type": "stream",
          "name": "stdout",
          "text": [
            "6.283185307179586\n",
            "1.1071487177940904\n"
          ]
        }
      ]
    }
  ],
  "metadata": {
    "colab": {
      "name": "scratchpad",
      "provenance": [],
      "include_colab_link": true
    },
    "kernelspec": {
      "display_name": "Python 3",
      "name": "python3"
    }
  },
  "nbformat": 4,
  "nbformat_minor": 0
}