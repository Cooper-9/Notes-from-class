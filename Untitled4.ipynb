{
  "nbformat": 4,
  "nbformat_minor": 0,
  "metadata": {
    "colab": {
      "provenance": [],
      "authorship_tag": "ABX9TyPV0PZyVnt3PKull6PIAU7U",
      "include_colab_link": true
    },
    "kernelspec": {
      "name": "python3",
      "display_name": "Python 3"
    },
    "language_info": {
      "name": "python"
    }
  },
  "cells": [
    {
      "cell_type": "markdown",
      "metadata": {
        "id": "view-in-github",
        "colab_type": "text"
      },
      "source": [
        "<a href=\"https://colab.research.google.com/github/Cooper-9/Notes-from-class/blob/main/Untitled4.ipynb\" target=\"_parent\"><img src=\"https://colab.research.google.com/assets/colab-badge.svg\" alt=\"Open In Colab\"/></a>"
      ]
    },
    {
      "cell_type": "markdown",
      "source": [
        "## Pseudocode for solving initial value problems/ temporal evolution of systems\n",
        "\n",
        "For our custom Euler code:\n",
        "1. **Import modules:** import 'math' for simple functions and constants; import 'matplotlib.pyplot' for plotting.\n",
        "2. **Define the differential equation as a first-order system:** made a custom function from $\\ddot{\\theta} + \\omega_0^2 sin(\\theta)=0$ to give $\\dot{\\theta} = \\Omega$ and $\\dot{\\Omega} = - \\omega_0^2 sin(\\theta)$.\n",
        "3. **Assign variables and time span:** define `omega_0`, the initial conditions (`theta_0`: initial angle; and `ang_vel_0`: initial angular velocity), and the time span.\n",
        "4. **Solve differential equaiton numerically:** call our custom euler solver.\n",
        "5. **Plot results and test output:** plot the temporal evolution of `theta` (`theta` vs. `t`), and the phase portrait (`ang_vel` vs. `theta`). Define and compare with an analytic solution to the harmonic oscillator/small-angle approximation."
      ],
      "metadata": {
        "id": "vLPoZuj2CNvn"
      }
    },
    {
      "cell_type": "code",
      "source": [
        "# import modules\n",
        "import matplotlib.pyplot as plt\n",
        "import math"
      ],
      "metadata": {
        "id": "sjXVW9K3IciG"
      },
      "execution_count": 48,
      "outputs": []
    },
    {
      "cell_type": "code",
      "source": [
        "# define system of equations\n",
        "def euler_rigid_pendulum(omega_0, theta_0, ang_vel_0, t_0, t_f, n_steps):\n",
        "  \"\"\"\n",
        "  This function calculates the solution to theta'' = - omega_0 ^2 sin(theta) with Euler's method.\n",
        "  \"\"\"\n",
        "  dt = (t_f - t_0) / n_steps # calculate dt\n",
        "  theta = [theta_0] # initialized theta list\n",
        "  angular_vel = [ang_vel_0] # initialized angular velocity list\n",
        "  t = [t_0] # initialized t list\n",
        "  for _ in range(n_steps):\n",
        "    theta_new = theta[-1] + ang_vel[-1] * dt # update theta\n",
        "    ang_vel_new = ang_vel[-1] - omega_0 ** 2 * math.sin(theta[-1]) * dt # update angular velocity: using an explicit form\n",
        "    t_new = t[-1] + dt # update t\n",
        "    theta.append(theta_new) # append theta\n",
        "    ang_vel.append(ang_vel_new) # append ang_vel\n",
        "    t.append(t_new) # append t\n",
        "  return t, theta, ang_vel"
      ],
      "metadata": {
        "id": "PJSlVi3DKB99"
      },
      "execution_count": 47,
      "outputs": []
    },
    {
      "cell_type": "code",
      "source": [
        "omega_0 = 1\n",
        "theta_0 = 1\n",
        "ang_vel_0 = 0\n",
        "t_0     = 0\n",
        "t_f     = 100\n",
        "n_steps = 1000\n",
        "\n",
        "t, theta, ang_vel = euler_rigid_pendulum(omega_0, theta_0, ang_vel_0, t_0, t_f, n_steps)\n",
        "\n",
        "# get the exact values\n",
        "theta_exact_rigid_pendulum = [theta_0 * math.cos(omega_0 * (t[i] - t_0)) + (ang_vel_0 / omega_0) * math.sin(omega_0 * (t[i] - t_0)) for i in range(len(t))] # using list comprehension\n",
        "v_exact_rigid_pendulum = [- theta_0 * omega_0 * math.sin(omega_0 * (t[i] - t_0)) + ang_vel_0 * math.cos(omega_0 * (t[i] - t_0)) for i in range(len(t))] # using list comprehension\n",
        "\n",
        "# plot with matplotlib\n",
        "plt.figure(figsize=(10,3))\n",
        "plt.plot(t, theta, label='euler -- rigid pendulum')\n",
        "plt.plot(t, theta_exact_sho,label='exact')\n",
        "plt.xlabel('t')\n",
        "plt.ylabel('$\\\\theta$')\n",
        "plt.legend()\n",
        "plt.show()\n",
        "\n",
        "# plot a phase portrait wiht matplotlib\n",
        "plt.figure(figsize=(3,3))\n",
        "plt.plot(theta, angular_vel, label='euler')\n",
        "plt.plot(theta_exact_sho, ang_vel_exact_sho,label='exact')\n",
        "plt.xlabel('theta')\n",
        "plt.ylabel('ang_vel')\n",
        "plt.legend()\n",
        "plt.show()"
      ],
      "metadata": {
        "colab": {
          "base_uri": "https://localhost:8080/",
          "height": 332
        },
        "id": "M_6JZnypL44-",
        "outputId": "c4b60504-eca0-4030-89e8-c0c8dcfd9f9b"
      },
      "execution_count": 51,
      "outputs": [
        {
          "output_type": "error",
          "ename": "TypeError",
          "evalue": "'int' object is not subscriptable",
          "traceback": [
            "\u001b[0;31m---------------------------------------------------------------------------\u001b[0m",
            "\u001b[0;31mTypeError\u001b[0m                                 Traceback (most recent call last)",
            "\u001b[0;32m/tmp/ipython-input-2721363194.py\u001b[0m in \u001b[0;36m<cell line: 0>\u001b[0;34m()\u001b[0m\n\u001b[1;32m      6\u001b[0m \u001b[0mn_steps\u001b[0m \u001b[0;34m=\u001b[0m \u001b[0;36m1000\u001b[0m\u001b[0;34m\u001b[0m\u001b[0;34m\u001b[0m\u001b[0m\n\u001b[1;32m      7\u001b[0m \u001b[0;34m\u001b[0m\u001b[0m\n\u001b[0;32m----> 8\u001b[0;31m \u001b[0mt\u001b[0m\u001b[0;34m,\u001b[0m \u001b[0mtheta\u001b[0m\u001b[0;34m,\u001b[0m \u001b[0mang_vel\u001b[0m \u001b[0;34m=\u001b[0m \u001b[0meuler_rigid_pendulum\u001b[0m\u001b[0;34m(\u001b[0m\u001b[0momega_0\u001b[0m\u001b[0;34m,\u001b[0m \u001b[0mtheta_0\u001b[0m\u001b[0;34m,\u001b[0m \u001b[0mang_vel_0\u001b[0m\u001b[0;34m,\u001b[0m \u001b[0mt_0\u001b[0m\u001b[0;34m,\u001b[0m \u001b[0mt_f\u001b[0m\u001b[0;34m,\u001b[0m \u001b[0mn_steps\u001b[0m\u001b[0;34m)\u001b[0m\u001b[0;34m\u001b[0m\u001b[0;34m\u001b[0m\u001b[0m\n\u001b[0m\u001b[1;32m      9\u001b[0m \u001b[0;34m\u001b[0m\u001b[0m\n\u001b[1;32m     10\u001b[0m \u001b[0;31m# get the exact values\u001b[0m\u001b[0;34m\u001b[0m\u001b[0;34m\u001b[0m\u001b[0m\n",
            "\u001b[0;32m/tmp/ipython-input-2986712922.py\u001b[0m in \u001b[0;36meuler_rigid_pendulum\u001b[0;34m(omega_0, theta_0, ang_vel_0, t_0, t_f, n_steps)\u001b[0m\n\u001b[1;32m      9\u001b[0m   \u001b[0mt\u001b[0m \u001b[0;34m=\u001b[0m \u001b[0;34m[\u001b[0m\u001b[0mt_0\u001b[0m\u001b[0;34m]\u001b[0m \u001b[0;31m# initialized t list\u001b[0m\u001b[0;34m\u001b[0m\u001b[0;34m\u001b[0m\u001b[0m\n\u001b[1;32m     10\u001b[0m   \u001b[0;32mfor\u001b[0m \u001b[0m_\u001b[0m \u001b[0;32min\u001b[0m \u001b[0mrange\u001b[0m\u001b[0;34m(\u001b[0m\u001b[0mn_steps\u001b[0m\u001b[0;34m)\u001b[0m\u001b[0;34m:\u001b[0m\u001b[0;34m\u001b[0m\u001b[0;34m\u001b[0m\u001b[0m\n\u001b[0;32m---> 11\u001b[0;31m     \u001b[0mtheta_new\u001b[0m \u001b[0;34m=\u001b[0m \u001b[0mtheta\u001b[0m\u001b[0;34m[\u001b[0m\u001b[0;34m-\u001b[0m\u001b[0;36m1\u001b[0m\u001b[0;34m]\u001b[0m \u001b[0;34m+\u001b[0m \u001b[0mang_vel\u001b[0m\u001b[0;34m[\u001b[0m\u001b[0;34m-\u001b[0m\u001b[0;36m1\u001b[0m\u001b[0;34m]\u001b[0m \u001b[0;34m*\u001b[0m \u001b[0mdt\u001b[0m \u001b[0;31m# update theta\u001b[0m\u001b[0;34m\u001b[0m\u001b[0;34m\u001b[0m\u001b[0m\n\u001b[0m\u001b[1;32m     12\u001b[0m     \u001b[0mang_vel_new\u001b[0m \u001b[0;34m=\u001b[0m \u001b[0mang_vel\u001b[0m\u001b[0;34m[\u001b[0m\u001b[0;34m-\u001b[0m\u001b[0;36m1\u001b[0m\u001b[0;34m]\u001b[0m \u001b[0;34m-\u001b[0m \u001b[0momega_0\u001b[0m \u001b[0;34m**\u001b[0m \u001b[0;36m2\u001b[0m \u001b[0;34m*\u001b[0m \u001b[0mmath\u001b[0m\u001b[0;34m.\u001b[0m\u001b[0msin\u001b[0m\u001b[0;34m(\u001b[0m\u001b[0mtheta\u001b[0m\u001b[0;34m[\u001b[0m\u001b[0;34m-\u001b[0m\u001b[0;36m1\u001b[0m\u001b[0;34m]\u001b[0m\u001b[0;34m)\u001b[0m \u001b[0;34m*\u001b[0m \u001b[0mdt\u001b[0m \u001b[0;31m# update angular velocity: using an explicit form\u001b[0m\u001b[0;34m\u001b[0m\u001b[0;34m\u001b[0m\u001b[0m\n\u001b[1;32m     13\u001b[0m     \u001b[0mt_new\u001b[0m \u001b[0;34m=\u001b[0m \u001b[0mt\u001b[0m\u001b[0;34m[\u001b[0m\u001b[0;34m-\u001b[0m\u001b[0;36m1\u001b[0m\u001b[0;34m]\u001b[0m \u001b[0;34m+\u001b[0m \u001b[0mdt\u001b[0m \u001b[0;31m# update t\u001b[0m\u001b[0;34m\u001b[0m\u001b[0;34m\u001b[0m\u001b[0m\n",
            "\u001b[0;31mTypeError\u001b[0m: 'int' object is not subscriptable"
          ]
        }
      ]
    }
  ]
}